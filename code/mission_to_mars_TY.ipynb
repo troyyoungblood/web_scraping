{
 "cells": [
  {
   "cell_type": "code",
   "execution_count": 2,
   "id": "known-alexandria",
   "metadata": {},
   "outputs": [],
   "source": [
    "from splinter import Browser\n",
    "from bs4 import BeautifulSoup\n",
    "from webdriver_manager.chrome import ChromeDriverManager\n",
    "import pymongo\n",
    "import requests\n",
    "import pandas as pd"
   ]
  },
  {
   "cell_type": "code",
   "execution_count": 3,
   "id": "dynamic-snowboard",
   "metadata": {},
   "outputs": [],
   "source": [
    "# Setup splinter\n",
    "executable_path = {'executable_path': 'C:/Users/troyy/.wdm/drivers/chromedriver/win32/88.0.4324.96/chromedriver.exe'}\n",
    "browser = Browser('chrome', **executable_path, headless=False)"
   ]
  },
  {
   "cell_type": "code",
   "execution_count": 4,
   "id": "warming-growing",
   "metadata": {},
   "outputs": [],
   "source": [
    "# Initialize PyMongo to work with MongoDBs\n",
    "conn = 'mongodb://localhost:27017'\n",
    "client = pymongo.MongoClient(conn)"
   ]
  },
  {
   "cell_type": "code",
   "execution_count": 5,
   "id": "protected-generation",
   "metadata": {},
   "outputs": [],
   "source": [
    "# Dtabase for HW - db name in Mongo is mission_to_mars\n",
    "db_mtm = client.mission_to_mars"
   ]
  },
  {
   "cell_type": "code",
   "execution_count": 6,
   "id": "mental-theater",
   "metadata": {},
   "outputs": [],
   "source": [
    "# only used during initial code devlopment \n",
    "# to ensure sollection os created and files are passed\n",
    "\n",
    "# collection for Nasa Mars News\n",
    "\n",
    "coll_nmn = db_mtm.nasa_mars_news"
   ]
  },
  {
   "cell_type": "code",
   "execution_count": 7,
   "id": "compact-thailand",
   "metadata": {},
   "outputs": [],
   "source": [
    "# collection for Mars Facts\n",
    "coll_mf = db_mtm.mars_facts"
   ]
  },
  {
   "cell_type": "code",
   "execution_count": 8,
   "id": "mechanical-vertex",
   "metadata": {},
   "outputs": [],
   "source": [
    "# collection for Mars Hemispheres\n",
    "coll_mh = db_mtm.mars_hemispheres"
   ]
  },
  {
   "cell_type": "code",
   "execution_count": 9,
   "id": "accepting-committee",
   "metadata": {},
   "outputs": [],
   "source": [
    "# collection created to test \n",
    "coll_mars = db_mtm.mars_HW12"
   ]
  },
  {
   "cell_type": "code",
   "execution_count": 10,
   "id": "brown-selling",
   "metadata": {},
   "outputs": [],
   "source": [
    "#NASA Mars News\n",
    "# browser works best here\n",
    "\n",
    "url_nmn = 'https://mars.nasa.gov/news/'\n",
    "browser.visit(url_nmn)\n",
    "# response = requests.get(url_nmn)"
   ]
  },
  {
   "cell_type": "code",
   "execution_count": 11,
   "id": "proved-greek",
   "metadata": {},
   "outputs": [],
   "source": [
    "#Creating an instance\n",
    "html = browser.html \n",
    "soup2 = BeautifulSoup(html, 'html.parser')\n",
    "# soup1 = BeautifulSoup(response.text, 'html.parser')"
   ]
  },
  {
   "cell_type": "code",
   "execution_count": 12,
   "id": "connected-replica",
   "metadata": {},
   "outputs": [
    {
     "name": "stdout",
     "output_type": "stream",
     "text": [
      "Sensors Prepare to Collect Data as Perseverance Enters Mars' Atmosphere\n",
      "Technology will collect critical data about the harsh entry environment during Perseverance’s entry next Thursday.\n"
     ]
    }
   ],
   "source": [
    "# just scraping the latest(top) article\n",
    "title_nmn = soup2.find_all('div', class_ = 'content_title')[1].text\n",
    "print(title_nmn)\n",
    "para_nmn = soup2.find('div', class_ = 'article_teaser_body').text\n",
    "print(para_nmn)"
   ]
  },
  {
   "cell_type": "code",
   "execution_count": 13,
   "id": "coastal-surprise",
   "metadata": {},
   "outputs": [
    {
     "data": {
      "text/plain": [
       "<pymongo.results.InsertOneResult at 0x23ab13d08c0>"
      ]
     },
     "execution_count": 13,
     "metadata": {},
     "output_type": "execute_result"
    }
   ],
   "source": [
    "# practicing sending files to mongo\n",
    "mars_news = {\"title\" : title_nmn, \"para\": para_nmn}\n",
    "coll_nmn.insert_one(mars_news)"
   ]
  },
  {
   "cell_type": "code",
   "execution_count": 14,
   "id": "electronic-passenger",
   "metadata": {},
   "outputs": [],
   "source": [
    "browser.quit()"
   ]
  },
  {
   "cell_type": "code",
   "execution_count": 15,
   "id": "elect-colors",
   "metadata": {},
   "outputs": [],
   "source": [
    "#Mars Facts\n",
    "url_mf = 'https://space-facts.com/mars/'\n",
    "# browser.visit(url_mf)\n",
    "response = requests.get(url_mf)"
   ]
  },
  {
   "cell_type": "code",
   "execution_count": 16,
   "id": "broadband-desire",
   "metadata": {},
   "outputs": [],
   "source": [
    "# html = browser.html \n",
    "# soup3 = BeautifulSoup(html, 'html.parser')\n",
    "soup4 = BeautifulSoup(response.text, 'html.parser')"
   ]
  },
  {
   "cell_type": "code",
   "execution_count": 17,
   "id": "breathing-elephant",
   "metadata": {},
   "outputs": [
    {
     "data": {
      "text/plain": [
       "bs4.element.Tag"
      ]
     },
     "execution_count": 17,
     "metadata": {},
     "output_type": "execute_result"
    }
   ],
   "source": [
    "# scraping table from webpage\n",
    "table_mf = soup4.find('table', class_ = 'tablepress tablepress-id-p-mars')\n",
    "# table_mf\n",
    "type(table_mf)"
   ]
  },
  {
   "cell_type": "code",
   "execution_count": 17,
   "id": "personalized-resistance",
   "metadata": {},
   "outputs": [
    {
     "data": {
      "text/plain": [
       "<pymongo.results.InsertOneResult at 0x23a567a6b80>"
      ]
     },
     "execution_count": 17,
     "metadata": {},
     "output_type": "execute_result"
    }
   ],
   "source": [
    "# converting bs4 element to a string - for some reason\n",
    "# unable to get bson to load correctly into mongo which makes no sense\n",
    "#  - to make work - converted bjson to htm and it loads\n",
    "\n",
    "mf_table_html_content = str(table_mf)\n",
    "mars_facts = {\"facts_table\" : mf_table_html_content}\n",
    "coll_mf.insert_one(mars_facts)\n",
    "# type(html_content)"
   ]
  },
  {
   "cell_type": "code",
   "execution_count": 18,
   "id": "elect-appliance",
   "metadata": {},
   "outputs": [],
   "source": [
    "browser.quit()"
   ]
  },
  {
   "cell_type": "code",
   "execution_count": 19,
   "id": "yellow-mustang",
   "metadata": {},
   "outputs": [
    {
     "data": {
      "text/plain": [
       "'https://astropedia.astrogeology.usgs.gov/download/Mars/Viking/cerberus_enhanced.tif/full.jpg'"
      ]
     },
     "execution_count": 19,
     "metadata": {},
     "output_type": "execute_result"
    }
   ],
   "source": [
    "# will try to develop loop to pull later - \n",
    "# for know push through manually to complete hw\n",
    "\n",
    "#Mars Hemispheres - Cerberus\n",
    "url1_mh = 'https://astrogeology.usgs.gov/search/map/Mars/Viking/cerberus_enhanced'\n",
    "\n",
    "#response works better with this site\n",
    "response = requests.get(url1_mh)\n",
    "\n",
    "soup5 = BeautifulSoup(response.text, 'html.parser')\n",
    "\n",
    "rel_path5 = soup5.find('div', class_='downloads')\n",
    "cerb_img = rel_path5.find('li').a['href']\n",
    "cerb_img"
   ]
  },
  {
   "cell_type": "code",
   "execution_count": 24,
   "id": "tender-blanket",
   "metadata": {},
   "outputs": [
    {
     "data": {
      "text/plain": [
       "'https://astropedia.astrogeology.usgs.gov/download/Mars/Viking/schiaparelli_enhanced.tif/full.jpg'"
      ]
     },
     "execution_count": 24,
     "metadata": {},
     "output_type": "execute_result"
    }
   ],
   "source": [
    "#Mars Hemispheres - Schiaparelli\n",
    "url2_mh = 'https://astrogeology.usgs.gov/search/map/Mars/Viking/schiaparelli_enhanced'\n",
    "\n",
    "#response works better with this site\n",
    "response = requests.get(url2_mh)\n",
    "\n",
    "soup6 = BeautifulSoup(response.text, 'html.parser')\n",
    "\n",
    "rel_path6 = soup6.find('div', class_='downloads')\n",
    "schi_img = rel_path6.find('li').a['href']\n",
    "schi_img"
   ]
  },
  {
   "cell_type": "code",
   "execution_count": 21,
   "id": "experienced-hepatitis",
   "metadata": {},
   "outputs": [
    {
     "data": {
      "text/plain": [
       "'https://astropedia.astrogeology.usgs.gov/download/Mars/Viking/syrtis_major_enhanced.tif/full.jpg'"
      ]
     },
     "execution_count": 21,
     "metadata": {},
     "output_type": "execute_result"
    }
   ],
   "source": [
    "#Mars Hemispheres - Syrtis Major\n",
    "url3_mh = 'https://astrogeology.usgs.gov/search/map/Mars/Viking/syrtis_major_enhanced'\n",
    "\n",
    "#response works better with this site\n",
    "response = requests.get(url3_mh)\n",
    "\n",
    "soup7 = BeautifulSoup(response.text, 'html.parser')\n",
    "\n",
    "rel_path7 = soup7.find('div', class_='downloads')\n",
    "syrt_img = rel_path7.find('li').a['href']\n",
    "syrt_img"
   ]
  },
  {
   "cell_type": "code",
   "execution_count": 22,
   "id": "printable-packing",
   "metadata": {},
   "outputs": [
    {
     "data": {
      "text/plain": [
       "'https://astropedia.astrogeology.usgs.gov/download/Mars/Viking/valles_marineris_enhanced.tif/full.jpg'"
      ]
     },
     "execution_count": 22,
     "metadata": {},
     "output_type": "execute_result"
    }
   ],
   "source": [
    "#Mars Hemispheres - Valles Marineris\n",
    "url4_mh = 'https://astrogeology.usgs.gov/search/map/Mars/Viking/valles_marineris_enhanced'\n",
    "\n",
    "#response works better with this site\n",
    "response = requests.get(url4_mh)\n",
    "\n",
    "soup8 = BeautifulSoup(response.text, 'html.parser')\n",
    "\n",
    "rel_path8 = soup8.find('div', class_='downloads')\n",
    "valle_img = rel_path8.find('li').a['href']\n",
    "valle_img"
   ]
  },
  {
   "cell_type": "code",
   "execution_count": 25,
   "id": "conventional-roommate",
   "metadata": {},
   "outputs": [
    {
     "data": {
      "text/plain": [
       "[{'title': 'Cerberus Hemisphere',\n",
       "  'img_url': 'https://astropedia.astrogeology.usgs.gov/download/Mars/Viking/cerberus_enhanced.tif/full.jpg'},\n",
       " {'title': 'Schiaparelli Hemisphere',\n",
       "  'img_url': 'https://astropedia.astrogeology.usgs.gov/download/Mars/Viking/schiaparelli_enhanced.tif/full.jpg'},\n",
       " {'title': 'Syrtis Major Hemisphere',\n",
       "  'img_url': 'https://astropedia.astrogeology.usgs.gov/download/Mars/Viking/syrtis_major_enhanced.tif/full.jpg'},\n",
       " {'title': 'Valles Marineris Hemisphere',\n",
       "  'img_url': 'https://astropedia.astrogeology.usgs.gov/download/Mars/Viking/valles_marineris_enhanced.tif/full.jpg'}]"
      ]
     },
     "execution_count": 25,
     "metadata": {},
     "output_type": "execute_result"
    }
   ],
   "source": [
    "hemisphere_info = [\n",
    "    {\"title\" : \"Cerberus Hemisphere\", \"img_url\" : cerb_img},\n",
    "    {\"title\" : \"Schiaparelli Hemisphere\", \"img_url\" : shi_img},\n",
    "    {\"title\" : \"Syrtis Major Hemisphere\", \"img_url\" : syrt_img},\n",
    "    {\"title\" : \"Valles Marineris Hemisphere\", \"img_url\" : valle_img}\n",
    "]\n",
    "hemisphere_info"
   ]
  },
  {
   "cell_type": "code",
   "execution_count": 26,
   "id": "native-drilling",
   "metadata": {},
   "outputs": [
    {
     "data": {
      "text/plain": [
       "<pymongo.results.InsertManyResult at 0x23a56d0d680>"
      ]
     },
     "execution_count": 26,
     "metadata": {},
     "output_type": "execute_result"
    }
   ],
   "source": [
    "coll_mh.insert_many(hemisphere_info)"
   ]
  },
  {
   "cell_type": "code",
   "execution_count": 27,
   "id": "authentic-parade",
   "metadata": {},
   "outputs": [],
   "source": [
    "browser.quit()"
   ]
  },
  {
   "cell_type": "code",
   "execution_count": 28,
   "id": "living-kelly",
   "metadata": {},
   "outputs": [
    {
     "data": {
      "text/plain": [
       "{'title': \"Sensors Prepare to Collect Data as Perseverance Enters Mars' Atmosphere\",\n",
       " 'para': 'Technology will collect critical data about the harsh entry environment during Perseverance’s entry next Thursday.',\n",
       " 'table': '<table class=\"tablepress tablepress-id-p-mars\" id=\"tablepress-p-mars\"><tbody><tr class=\"row-1 odd\"><td class=\"column-1\"><strong>Equatorial Diameter:</strong></td><td class=\"column-2\">6,792 km<br/></td></tr><tr class=\"row-2 even\"><td class=\"column-1\"><strong>Polar Diameter:</strong></td><td class=\"column-2\">6,752 km<br/></td></tr><tr class=\"row-3 odd\"><td class=\"column-1\"><strong>Mass:</strong></td><td class=\"column-2\">6.39 × 10^23 kg<br/> (0.11 Earths)</td></tr><tr class=\"row-4 even\"><td class=\"column-1\"><strong>Moons:</strong></td><td class=\"column-2\">2 (<a href=\"https://space-facts.com/moons/phobos/\">Phobos</a> &amp; <a href=\"https://space-facts.com/moons/deimos/\">Deimos</a>)</td></tr><tr class=\"row-5 odd\"><td class=\"column-1\"><strong>Orbit Distance:</strong></td><td class=\"column-2\">227,943,824 km<br/> (1.38 AU)</td></tr><tr class=\"row-6 even\"><td class=\"column-1\"><strong>Orbit Period:</strong></td><td class=\"column-2\">687 days (1.9 years)<br/></td></tr><tr class=\"row-7 odd\"><td class=\"column-1\"><strong>Surface Temperature: </strong></td><td class=\"column-2\">-87 to -5 °C</td></tr><tr class=\"row-8 even\"><td class=\"column-1\"><strong>First Record:</strong></td><td class=\"column-2\">2nd millennium BC</td></tr><tr class=\"row-9 odd\"><td class=\"column-1\"><strong>Recorded By:</strong></td><td class=\"column-2\">Egyptian astronomers</td></tr></tbody></table>',\n",
       " 'images': [{'title': 'Cerberus Hemisphere',\n",
       "   'img_url': 'https://astropedia.astrogeology.usgs.gov/download/Mars/Viking/cerberus_enhanced.tif/full.jpg',\n",
       "   '_id': ObjectId('6027877daf9dbbba3f14b592')},\n",
       "  {'title': 'Schiaparelli Hemisphere',\n",
       "   'img_url': 'https://astropedia.astrogeology.usgs.gov/download/Mars/Viking/schiaparelli_enhanced.tif/full.jpg',\n",
       "   '_id': ObjectId('6027877daf9dbbba3f14b593')},\n",
       "  {'title': 'Syrtis Major Hemisphere',\n",
       "   'img_url': 'https://astropedia.astrogeology.usgs.gov/download/Mars/Viking/syrtis_major_enhanced.tif/full.jpg',\n",
       "   '_id': ObjectId('6027877daf9dbbba3f14b594')},\n",
       "  {'title': 'Valles Marineris Hemisphere',\n",
       "   'img_url': 'https://astropedia.astrogeology.usgs.gov/download/Mars/Viking/valles_marineris_enhanced.tif/full.jpg',\n",
       "   '_id': ObjectId('6027877daf9dbbba3f14b595')}]}"
      ]
     },
     "execution_count": 28,
     "metadata": {},
     "output_type": "execute_result"
    }
   ],
   "source": [
    "mars_HW12_info = {\n",
    "    \"title\" : title_nmn,\n",
    "    \"para\" : para_nmn,\n",
    "    \"table\" : mf_table_html_content,\n",
    "    \"images\" : hemisphere_info\n",
    "}\n",
    "mars_HW12_info"
   ]
  },
  {
   "cell_type": "code",
   "execution_count": 29,
   "id": "sustained-legend",
   "metadata": {},
   "outputs": [
    {
     "data": {
      "text/plain": [
       "<pymongo.results.InsertOneResult at 0x23a56424f40>"
      ]
     },
     "execution_count": 29,
     "metadata": {},
     "output_type": "execute_result"
    }
   ],
   "source": [
    "# verifying step loads correctly to mongo db\n",
    "coll_mars.insert_one(mars_HW12_info)"
   ]
  },
  {
   "cell_type": "code",
   "execution_count": null,
   "id": "wanted-motion",
   "metadata": {},
   "outputs": [],
   "source": []
  }
 ],
 "metadata": {
  "kernelspec": {
   "display_name": "Python [conda env:homework_mongo] *",
   "language": "python",
   "name": "conda-env-homework_mongo-py"
  },
  "language_info": {
   "codemirror_mode": {
    "name": "ipython",
    "version": 3
   },
   "file_extension": ".py",
   "mimetype": "text/x-python",
   "name": "python",
   "nbconvert_exporter": "python",
   "pygments_lexer": "ipython3",
   "version": "3.8.5"
  }
 },
 "nbformat": 4,
 "nbformat_minor": 5
}
